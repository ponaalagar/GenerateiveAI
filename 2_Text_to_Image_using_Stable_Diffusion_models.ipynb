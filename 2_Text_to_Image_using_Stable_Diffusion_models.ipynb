{
  "cells": [
    {
      "cell_type": "markdown",
      "metadata": {
        "id": "view-in-github",
        "colab_type": "text"
      },
      "source": [
        "<a href=\"https://colab.research.google.com/github/ponaalagar/GenerateiveAI/blob/main/2_Text_to_Image_using_Stable_Diffusion_models.ipynb\" target=\"_parent\"><img src=\"https://colab.research.google.com/assets/colab-badge.svg\" alt=\"Open In Colab\"/></a>"
      ]
    },
    {
      "cell_type": "code",
      "execution_count": null,
      "metadata": {
        "colab": {
          "base_uri": "https://localhost:8080/",
          "height": 178
        },
        "id": "8VxgWx9YYI1i",
        "outputId": "2f1046e8-fabc-47db-9340-ceb88defe83a"
      },
      "outputs": [
        {
          "output_type": "error",
          "ename": "SyntaxError",
          "evalue": "invalid decimal literal (ipython-input-388428052.py, line 36)",
          "traceback": [
            "\u001b[0;36m  File \u001b[0;32m\"/tmp/ipython-input-388428052.py\"\u001b[0;36m, line \u001b[0;32m36\u001b[0m\n\u001b[0;31m    Convert, 4k HD realistic, A stunning portrait of a young Indian woman with long, dark, wavy hair cascading over her shoulders. She is wearing a translucent, elegant red saree draped over one shoulder, revealing a fitted blouse underneath. White flowers are tucked behind her right ear. She is looking slightly to her right, with a soft, serene expression. I want same face as l uploaded no alternation 100 percent same.The background is a plain, warm-toned wall, illuminated by a warm light source from the right, creating a distinct, soft-edged shadow of her profile and hair on the wall behind her. The overall mood is retro and artistic!\u001b[0m\n\u001b[0m             ^\u001b[0m\n\u001b[0;31mSyntaxError\u001b[0m\u001b[0;31m:\u001b[0m invalid decimal literal\n"
          ]
        }
      ],
      "source": [
        "# ============================================\n",
        "# STEP 1: Install dependencies\n",
        "# ============================================\n",
        "!pip install diffusers transformers accelerate safetensors --quiet\n",
        "\n",
        "# ============================================\n",
        "# STEP 2: Import libraries\n",
        "# ============================================\n",
        "import torch\n",
        "from diffusers import StableDiffusionPipeline\n",
        "from PIL import Image\n",
        "\n",
        "# ============================================\n",
        "# STEP 3: Load Stable Diffusion model\n",
        "# ============================================\n",
        "# Stable Diffusion v1.5 (lightweight, works on Colab T4)\n",
        "model_id = \"runwayml/stable-diffusion-v1-5\"\n",
        "\n",
        "pipe = StableDiffusionPipeline.from_pretrained(model_id, torch_dtype=torch.float16)\n",
        "pipe = pipe.to(\"cuda\")  # Use GPU if available\n",
        "\n",
        "# ============================================\n",
        "# STEP 4: Generate a single image\n",
        "# ============================================\n",
        "prompt = \"a futuristic city on Mars at sunset, highly detailed, sci-fi concept art\"\n",
        "image = pipe(prompt).images[0]\n",
        "\n",
        "# Save & show the result\n",
        "image.save(\"mars_city.png\")\n",
        "display(image)\n",
        "\n",
        "# ============================================\n",
        "# STEP 5: Generate multiple variations\n",
        "# ============================================\n",
        "prompts = [\n",
        "    Convert, 4k HD realistic, A stunning portrait of a young Indian woman with long, dark, wavy hair cascading over her shoulders. She is wearing a translucent, elegant red saree draped over one shoulder, revealing a fitted blouse underneath. White flowers are tucked behind her right ear. She is looking slightly to her right, with a soft, serene expression. I want same face as l uploaded no alternation 100 percent same.The background is a plain, warm-toned wall, illuminated by a warm light source from the right, creating a distinct, soft-edged shadow of her profile and hair on the wall behind her. The overall mood is retro and artistic!\n",
        "\n",
        "]\n",
        "\n",
        "for i, p in enumerate(prompts):\n",
        "    img = pipe(p).images[0]\n",
        "    img.save(f\"generated_{i}.png\")\n",
        "    display(img)\n",
        "    print(f\"✅ Generated: {p}\")\n"
      ]
    }
  ],
  "metadata": {
    "accelerator": "GPU",
    "colab": {
      "gpuType": "T4",
      "provenance": [],
      "include_colab_link": true
    },
    "kernelspec": {
      "display_name": "Python 3",
      "name": "python3"
    },
    "language_info": {
      "name": "python"
    }
  },
  "nbformat": 4,
  "nbformat_minor": 0
}